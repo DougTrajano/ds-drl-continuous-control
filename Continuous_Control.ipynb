{
 "cells": [
  {
   "cell_type": "markdown",
   "metadata": {},
   "source": [
    "# Continuous Control\n",
    "\n",
    "In this notebook, I'll train an agent to solve the Reacher Environment using Unity ML-Agents.\n",
    "\n",
    "---\n",
    "\n",
    "# Index\n",
    "\n",
    "- []()\n",
    "- []()\n",
    "- []()\n",
    "- []()\n",
    "- []()"
   ]
  },
  {
   "cell_type": "markdown",
   "metadata": {},
   "source": [
    "## 1. Setup the Environment\n",
    "\n",
    "<img align=\"left\" width=\"150\" src=\"https://www.nclouds.com/img/services/toolkit/sagemaker.png\"/>\n",
    "\n",
    "This notebook was developed on AWS SageMaker.\n",
    "\n",
    "The kernel used is **conda_python3**\n",
    "\n",
    "To setup this environment on SageMaker you need to run the next 3 cells.\n",
    "\n",
    "Run the next code cell to install a few packages.  This line will take a few minutes to run!"
   ]
  },
  {
   "cell_type": "code",
   "execution_count": null,
   "metadata": {},
   "outputs": [],
   "source": [
    "!pip install --upgrade pip"
   ]
  },
  {
   "cell_type": "code",
   "execution_count": null,
   "metadata": {},
   "outputs": [],
   "source": [
    "!pip install -r requirements.txt"
   ]
  },
  {
   "cell_type": "code",
   "execution_count": null,
   "metadata": {},
   "outputs": [],
   "source": [
    "#!pip install torch===1.5.1 torchvision===0.6.1 -f https://download.pytorch.org/whl/torch_stable.html"
   ]
  },
  {
   "cell_type": "code",
   "execution_count": null,
   "metadata": {},
   "outputs": [],
   "source": [
    "!pip -q install ./python"
   ]
  },
  {
   "cell_type": "markdown",
   "metadata": {},
   "source": [
    "## 2. Start the Environment"
   ]
  },
  {
   "cell_type": "markdown",
   "metadata": {},
   "source": [
    "The environments corresponding to both versions of the environment are already saved in the Workspace and can be accessed at the file paths provided below.  \n",
    "\n",
    "Please select one of the two options below for loading the environment."
   ]
  },
  {
   "cell_type": "code",
   "execution_count": 1,
   "metadata": {},
   "outputs": [
    {
     "name": "stdout",
     "output_type": "stream",
     "text": [
      "Running on device: cpu\n"
     ]
    },
    {
     "name": "stderr",
     "output_type": "stream",
     "text": [
      "INFO:unityagents:\n",
      "'Academy' started successfully!\n",
      "Unity Academy name: Academy\n",
      "        Number of Brains: 1\n",
      "        Number of External Brains : 1\n",
      "        Lesson number : 0\n",
      "        Reset Parameters :\n",
      "\t\tgoal_size -> 5.0\n",
      "\t\tgoal_speed -> 1.0\n",
      "Unity brain name: ReacherBrain\n",
      "        Number of Visual Observations (per agent): 0\n",
      "        Vector Observation space type: continuous\n",
      "        Vector Observation space size (per agent): 33\n",
      "        Number of stacked Vector Observation: 1\n",
      "        Vector Action space type: continuous\n",
      "        Vector Action space size (per agent): 4\n",
      "        Vector Action descriptions: , , , \n"
     ]
    }
   ],
   "source": [
    "import numpy as np\n",
    "import matplotlib.pyplot as plt\n",
    "\n",
    "from unityagents import UnityEnvironment\n",
    "from collections import deque\n",
    "from agent import Agent\n",
    "\n",
    "# One agent\n",
    "#env_path = \"one_agent/Reacher_Windows_x86_64/Reacher.exe\"\n",
    "#env_path = \"one_agent/Reacher_Linux/Reacher.x86_64\"\n",
    "\n",
    "# Multi agent\n",
    "#env_path = \"multi_agent/Reacher_Windows_x86_64/Reacher.exe\"\n",
    "env_path = \"multi_agent/Reacher_Linux/Reacher.x86_64\"\n",
    "\n",
    "env = UnityEnvironment(file_name=env_path, no_graphics=True)"
   ]
  },
  {
   "cell_type": "markdown",
   "metadata": {},
   "source": [
    "Environments contain **_brains_** which are responsible for deciding the actions of their associated agents. Here we check for the first brain available, and set it as the default brain we will be controlling from Python."
   ]
  },
  {
   "cell_type": "code",
   "execution_count": 2,
   "metadata": {},
   "outputs": [],
   "source": [
    "# get the default brain\n",
    "brain_name = env.brain_names[0]\n",
    "brain = env.brains[brain_name]"
   ]
  },
  {
   "cell_type": "markdown",
   "metadata": {},
   "source": [
    "## 3. Examine the State and Action Spaces\n",
    "\n",
    "Run the code cell below to print some information about the environment."
   ]
  },
  {
   "cell_type": "code",
   "execution_count": 3,
   "metadata": {},
   "outputs": [
    {
     "name": "stdout",
     "output_type": "stream",
     "text": [
      "Number of agents: 20\n",
      "Size of each action: 4\n",
      "There are 20 agents. Each observes a state with length: 33\n",
      "The state for the first agent looks like: [ 0.00000000e+00 -4.00000000e+00  0.00000000e+00  1.00000000e+00\n",
      " -0.00000000e+00 -0.00000000e+00 -4.37113883e-08  0.00000000e+00\n",
      "  0.00000000e+00  0.00000000e+00  0.00000000e+00  0.00000000e+00\n",
      "  0.00000000e+00  0.00000000e+00 -1.00000000e+01  0.00000000e+00\n",
      "  1.00000000e+00 -0.00000000e+00 -0.00000000e+00 -4.37113883e-08\n",
      "  0.00000000e+00  0.00000000e+00  0.00000000e+00  0.00000000e+00\n",
      "  0.00000000e+00  0.00000000e+00  5.75471878e+00 -1.00000000e+00\n",
      "  5.55726624e+00  0.00000000e+00  1.00000000e+00  0.00000000e+00\n",
      " -1.68164849e-01]\n"
     ]
    }
   ],
   "source": [
    "# reset the environment\n",
    "env_info = env.reset(train_mode=True)[brain_name]\n",
    "\n",
    "# number of agents\n",
    "num_agents = len(env_info.agents)\n",
    "print('Number of agents:', num_agents)\n",
    "\n",
    "# size of each action\n",
    "action_size = brain.vector_action_space_size\n",
    "print('Size of each action:', action_size)\n",
    "\n",
    "# examine the state space \n",
    "states = env_info.vector_observations\n",
    "state_size = states.shape[1]\n",
    "print('There are {} agents. Each observes a state with length: {}'.format(states.shape[0], state_size))\n",
    "print('The state for the first agent looks like:', states[0])"
   ]
  },
  {
   "cell_type": "markdown",
   "metadata": {},
   "source": [
    "## 4. Define helper functions to training session\n",
    "\n",
    "Here we'll create a function that can be very helpful to teach the agent."
   ]
  },
  {
   "cell_type": "code",
   "execution_count": 4,
   "metadata": {},
   "outputs": [],
   "source": [
    "def rl_trainer(agents, n_episodes=2000, max_time_step=None, score_deque=100, print_range=10, early_stop=30, add_noise=False, save_model=True, verbose=False):\n",
    "    \"\"\"Deep Q-Learning trainer.\n",
    "    Params\n",
    "    ======\n",
    "        agents (list): List of Agent Objects\n",
    "        n_episodes (int): maximum number of training episodes.\n",
    "        max_time_step (int or None): The max time step per episode, if None, the agent will training until environment is done.\n",
    "        scores_deque (int): The len of score deque.\n",
    "        print_range (int): range to print partials results.\n",
    "        early_stop (int): Stop training when achieve a defined score respecting 10 min n_episodes.\n",
    "        add_noise (bool): If True, we'll reset at each step and add_noise at each action call.\n",
    "        save_model (bool): If True, we'll save the model weights when we solve the environment\n",
    "        verbose (bool): If verbose true, we'll print some infos on console.\n",
    "    \"\"\"\n",
    "    scores_window = deque(maxlen=score_deque)\n",
    "    scores = np.zeros(num_agents)\n",
    "    scores_episode = []\n",
    "    \n",
    "    for ep in range(1, n_episodes+1):\n",
    "        env_info = env.reset(train_mode=True)[brain_name]\n",
    "        states = env_info.vector_observations\n",
    "        scores = np.zeros(num_agents)\n",
    "        time_step = 0\n",
    "        training = True\n",
    "        \n",
    "        if add_noise:\n",
    "            for agent in agents:\n",
    "                agent.reset()\n",
    "\n",
    "        while training:\n",
    "            actions = np.array([agents[i].act(states[i], add_noise) for i in range(num_agents)])\n",
    "            env_info = env.step(actions)[brain_name]        # send the action to the environment\n",
    "            next_states = env_info.vector_observations     # get the next state\n",
    "            rewards = env_info.rewards                     # get the reward\n",
    "            dones = env_info.local_done        \n",
    "            \n",
    "            for i in range(num_agents):\n",
    "                agents[i].step(states[i], actions[i], rewards[i], next_states[i], dones[i]) \n",
    " \n",
    "            states = next_states\n",
    "            scores += rewards\n",
    "            time_step += 1\n",
    "            \n",
    "            if isinstance(max_time_step, (int, float)):\n",
    "                if time_step >= max_time_step:\n",
    "                    training = False\n",
    "                    \n",
    "            if np.any(dones):\n",
    "                break \n",
    "                \n",
    "        score = np.mean(scores)\n",
    "        scores_window.append(score)\n",
    "        scores_episode.append(score)\n",
    "\n",
    "        if verbose:\n",
    "            print('\\rEpisode {} || Avg Score: {:.2f} || Max Score: {:.2f} || Avg Score (last {} episodes): {:.2f}'.format(ep, score, np.max(scores), score_deque, np.mean(scores_window)), end=\"\")\n",
    "            if ep % print_range == 0:\n",
    "                print('\\rEpisode {} || Avg Score: {:.2f} || Max Score: {:.2f} || Avg Score (last {} episodes): {:.2f}'.format(ep, score, np.max(scores), score_deque, np.mean(scores_window)))\n",
    "        if np.mean(scores_window) >= early_stop:\n",
    "            if verbose:\n",
    "                print('\\nEnvironment solved in {:d} episodes! || Avg Score: {:.2f}'.format(ep, np.mean(scores_window)))\n",
    "            if save_model:\n",
    "                Agent.save_model(params=agents[0].get_params())\n",
    "                \n",
    "            break\n",
    "            \n",
    "    return scores_episode"
   ]
  },
  {
   "cell_type": "markdown",
   "metadata": {},
   "source": [
    "## 5. Training the Agent\n",
    "\n",
    "In the next code cells, we will train the Agent to work on environment."
   ]
  },
  {
   "cell_type": "code",
   "execution_count": null,
   "metadata": {},
   "outputs": [
    {
     "name": "stdout",
     "output_type": "stream",
     "text": [
      "Episode 1 || Avg Score: 0.37 || Max Score: 1.20 || Avg Score (last 100 episodes): 0.37\n",
      "Episode 2 || Avg Score: 0.80 || Max Score: 1.77 || Avg Score (last 100 episodes): 0.58\n",
      "Episode 3 || Avg Score: 2.33 || Max Score: 3.88 || Avg Score (last 100 episodes): 1.17\n",
      "Episode 4 || Avg Score: 3.43 || Max Score: 6.15 || Avg Score (last 100 episodes): 1.73\n",
      "Episode 5 || Avg Score: 4.31 || Max Score: 7.84 || Avg Score (last 100 episodes): 2.25\n",
      "Episode 6 || Avg Score: 6.13 || Max Score: 10.40 || Avg Score (last 100 episodes): 2.90\n",
      "Episode 7 || Avg Score: 6.73 || Max Score: 10.53 || Avg Score (last 100 episodes): 3.44\n",
      "Episode 8 || Avg Score: 8.00 || Max Score: 11.82 || Avg Score (last 100 episodes): 4.01\n",
      "Episode 9 || Avg Score: 9.05 || Max Score: 14.33 || Avg Score (last 100 episodes): 4.57\n",
      "Episode 10 || Avg Score: 11.79 || Max Score: 29.48 || Avg Score (last 100 episodes): 5.29\n",
      "Episode 11 || Avg Score: 13.19 || Max Score: 20.14 || Avg Score (last 100 episodes): 6.01\n",
      "Episode 12 || Avg Score: 13.76 || Max Score: 18.80 || Avg Score (last 100 episodes): 6.66\n",
      "Episode 13 || Avg Score: 17.47 || Max Score: 24.53 || Avg Score (last 100 episodes): 7.49\n",
      "Episode 14 || Avg Score: 18.96 || Max Score: 24.27 || Avg Score (last 100 episodes): 8.31\n",
      "Episode 15 || Avg Score: 23.30 || Max Score: 31.36 || Avg Score (last 100 episodes): 9.31\n",
      "Episode 20 || Avg Score: 31.99 || Max Score: 39.50 || Avg Score (last 100 episodes): 14.39\n",
      "Episode 21 || Avg Score: 35.76 || Max Score: 39.46 || Avg Score (last 100 episodes): 15.41\n",
      "Episode 22 || Avg Score: 37.75 || Max Score: 39.62 || Avg Score (last 100 episodes): 16.42\n",
      "Episode 23 || Avg Score: 38.04 || Max Score: 39.56 || Avg Score (last 100 episodes): 17.36\n",
      "Episode 24 || Avg Score: 37.25 || Max Score: 39.33 || Avg Score (last 100 episodes): 18.19\n",
      "Episode 25 || Avg Score: 37.52 || Max Score: 39.64 || Avg Score (last 100 episodes): 18.96\n",
      "Episode 26 || Avg Score: 38.12 || Max Score: 39.65 || Avg Score (last 100 episodes): 19.70\n",
      "Episode 27 || Avg Score: 39.02 || Max Score: 39.62 || Avg Score (last 100 episodes): 20.42\n",
      "Episode 28 || Avg Score: 38.77 || Max Score: 39.61 || Avg Score (last 100 episodes): 21.07\n",
      "Episode 29 || Avg Score: 39.31 || Max Score: 39.66 || Avg Score (last 100 episodes): 21.70\n",
      "Episode 30 || Avg Score: 39.07 || Max Score: 39.61 || Avg Score (last 100 episodes): 22.28\n",
      "Episode 31 || Avg Score: 39.04 || Max Score: 39.55 || Avg Score (last 100 episodes): 22.82\n",
      "Episode 32 || Avg Score: 38.98 || Max Score: 39.59 || Avg Score (last 100 episodes): 23.32\n",
      "Episode 33 || Avg Score: 39.25 || Max Score: 39.66 || Avg Score (last 100 episodes): 23.81\n",
      "Episode 34 || Avg Score: 39.23 || Max Score: 39.66 || Avg Score (last 100 episodes): 24.26\n",
      "Episode 35 || Avg Score: 38.26 || Max Score: 39.55 || Avg Score (last 100 episodes): 24.66\n",
      "Episode 36 || Avg Score: 39.21 || Max Score: 39.65 || Avg Score (last 100 episodes): 25.06\n",
      "Episode 37 || Avg Score: 39.24 || Max Score: 39.67 || Avg Score (last 100 episodes): 25.45\n",
      "Episode 38 || Avg Score: 38.53 || Max Score: 39.61 || Avg Score (last 100 episodes): 25.79\n",
      "Episode 39 || Avg Score: 39.43 || Max Score: 39.65 || Avg Score (last 100 episodes): 26.14\n",
      "Episode 40 || Avg Score: 39.47 || Max Score: 39.65 || Avg Score (last 100 episodes): 26.47\n",
      "Episode 41 || Avg Score: 39.29 || Max Score: 39.64 || Avg Score (last 100 episodes): 26.79\n",
      "Episode 42 || Avg Score: 38.06 || Max Score: 39.64 || Avg Score (last 100 episodes): 27.06\n",
      "Episode 43 || Avg Score: 39.31 || Max Score: 39.63 || Avg Score (last 100 episodes): 27.34\n",
      "Episode 44 || Avg Score: 38.81 || Max Score: 39.55 || Avg Score (last 100 episodes): 27.60\n",
      "Episode 45 || Avg Score: 38.69 || Max Score: 39.64 || Avg Score (last 100 episodes): 27.85\n",
      "Episode 46 || Avg Score: 38.88 || Max Score: 39.68 || Avg Score (last 100 episodes): 28.09\n",
      "Episode 47 || Avg Score: 39.22 || Max Score: 39.63 || Avg Score (last 100 episodes): 28.32\n",
      "Episode 48 || Avg Score: 39.03 || Max Score: 39.65 || Avg Score (last 100 episodes): 28.55\n",
      "Episode 49 || Avg Score: 39.10 || Max Score: 39.64 || Avg Score (last 100 episodes): 28.76\n",
      "Episode 50 || Avg Score: 39.37 || Max Score: 39.61 || Avg Score (last 100 episodes): 28.98\n",
      "Episode 51 || Avg Score: 39.26 || Max Score: 39.59 || Avg Score (last 100 episodes): 29.18\n",
      "Episode 52 || Avg Score: 38.36 || Max Score: 39.66 || Avg Score (last 100 episodes): 29.35\n",
      "Episode 53 || Avg Score: 39.34 || Max Score: 39.62 || Avg Score (last 100 episodes): 29.54\n",
      "Episode 54 || Avg Score: 39.39 || Max Score: 39.64 || Avg Score (last 100 episodes): 29.72\n",
      "Episode 55 || Avg Score: 39.28 || Max Score: 39.68 || Avg Score (last 100 episodes): 29.90\n",
      "Episode 56 || Avg Score: 39.39 || Max Score: 39.68 || Avg Score (last 100 episodes): 30.07\n",
      "\n",
      "Environment solved in 56 episodes! || Avg Score: 30.07\n"
     ]
    },
    {
     "data": {
      "image/png": "[encoded data removed]",
      "text/plain": [
       "<Figure size 432x288 with 1 Axes>"
      ]
     },
     "metadata": {
      "needs_background": "light"
     },
     "output_type": "display_data"
    },
    {
     "name": "stdout",
     "output_type": "stream",
     "text": [
      "CPU times: user 1d 4h 42min 2s, sys: 1h 22min 31s, total: 1d 6h 4min 33s\n",
      "Wall time: 1h 58min 55s\n"
     ]
    }
   ],
   "source": [
    "%%time\n",
    "\n",
    "agents = [] \n",
    "for i in range(num_agents):\n",
    "    agents.append(Agent(state_size=state_size, action_size=action_size, random_seed=399, memory_size=int(1e6),\n",
    "                        batch_size=16, gamma=0.99, tau=1e-3, lr_actor=1e-4, lr_critic=1e-4, weight_decay=0.0,\n",
    "                        actor_units=(256, 128), critic_units=(256, 128), action_min=-1, action_max=1))\n",
    "    \n",
    "scores = rl_trainer(agents, n_episodes=2000, print_range=1, early_stop=30,\n",
    "                    add_noise=False, save_model=True, verbose=True)\n",
    "\n",
    "agent = agents[0]\n",
    "\n",
    "# plot the scores\n",
    "fig = plt.figure()\n",
    "ax = fig.add_subplot(111)\n",
    "plt.plot(np.arange(len(scores)), scores)\n",
    "plt.ylabel('Score')\n",
    "plt.xlabel('Episode #')\n",
    "plt.show()"
   ]
  },
  {
   "cell_type": "markdown",
   "metadata": {},
   "source": [
    "### Load weights"
   ]
  },
  {
   "cell_type": "code",
   "execution_count": null,
   "metadata": {},
   "outputs": [],
   "source": [
    "agent = Agent.load_model()\n",
    "agent"
   ]
  },
  {
   "cell_type": "markdown",
   "metadata": {},
   "source": [
    "## 6. Test Agent on Environment\n",
    "\n",
    "In the next code cell, you will learn how to use the Python API to control the agent and receive feedback from the environment.\n",
    "\n",
    "Once this cell is executed, you will watch the agent's performance."
   ]
  },
  {
   "cell_type": "code",
   "execution_count": null,
   "metadata": {},
   "outputs": [],
   "source": [
    "env_info = env.reset(train_mode=False)[brain_name]\n",
    "state = env_info.vector_observations[0]\n",
    "score = 0\n",
    "\n",
    "while True:\n",
    "    action = agent.act(state)\n",
    "    env_info = env.step(action)[brain_name]\n",
    "    next_state = env_info.vector_observations[0]\n",
    "    reward = env_info.rewards[0]\n",
    "    done = env_info.local_done[0]\n",
    "    score += reward\n",
    "    state = next_state\n",
    "    if done:\n",
    "        break\n",
    "    \n",
    "print(\"Score: {}\".format(score))"
   ]
  },
  {
   "cell_type": "markdown",
   "metadata": {},
   "source": [
    "When finished, you can close the environment."
   ]
  },
  {
   "cell_type": "code",
   "execution_count": null,
   "metadata": {},
   "outputs": [],
   "source": [
    "env.close()"
   ]
  }
 ],
 "metadata": {
  "kernelspec": {
   "display_name": "conda_python3",
   "language": "python",
   "name": "conda_python3"
  },
  "language_info": {
   "codemirror_mode": {
    "name": "ipython",
    "version": 3
   },
   "file_extension": ".py",
   "mimetype": "text/x-python",
   "name": "python",
   "nbconvert_exporter": "python",
   "pygments_lexer": "ipython3",
   "version": "3.6.10"
  }
 },
 "nbformat": 4,
 "nbformat_minor": 2
}
